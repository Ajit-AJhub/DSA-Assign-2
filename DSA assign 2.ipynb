{
 "cells": [
  {
   "cell_type": "code",
   "execution_count": null,
   "id": "eab814e5-65be-4f3a-8dfb-f36dd5b3cdf0",
   "metadata": {},
   "outputs": [],
   "source": [
    "\n",
    "Question 1\n",
    "Given an integer array nums of 2n integers, group these integers into n pairs (a1, b1), (a2, b2),..., (an, bn) such that the sum of\n",
    "min(ai, bi) for all i is maximized. Return the maximized sum.\n",
    "\n",
    "**Example 1:**\n",
    "Input: nums = [1,4,3,2]\n",
    "Output: 4\n",
    "\n",
    "**Explanation:** All possible pairings (ignoring the ordering of elements) are:\n",
    "\n",
    "1. (1, 4), (2, 3) -> min(1, 4) + min(2, 3) = 1 + 2 = 3\n",
    "2. (1, 3), (2, 4) -> min(1, 3) + min(2, 4) = 1 + 2 = 3\n",
    "3. (1, 2), (3, 4) -> min(1, 2) + min(3, 4) = 1 + 3 = 4\n",
    "So the maximum possible sum is 4\n",
    "\n",
    "Ans1-\n"
   ]
  },
  {
   "cell_type": "code",
   "execution_count": 1,
   "id": "a73a9359-9c41-451b-bef4-4df7e2db13ec",
   "metadata": {},
   "outputs": [
    {
     "name": "stdout",
     "output_type": "stream",
     "text": [
      "4\n"
     ]
    }
   ],
   "source": [
    "def array_pair_sum(nums):\n",
    "    nums.sort() \n",
    "    max_sum = 0\n",
    "    for i in range(0, len(nums), 2):\n",
    "        max_sum += nums[i]\n",
    "    return max_sum\n",
    "\n",
    "nums = [1, 4, 3, 2]\n",
    "print(array_pair_sum(nums))\n",
    "\n"
   ]
  },
  {
   "cell_type": "code",
   "execution_count": null,
   "id": "a430e3fb-24d3-49a7-af1f-5042208200ff",
   "metadata": {},
   "outputs": [],
   "source": [
    "Question 2\n",
    "Alice has n candies, where the ith candy is of type candyType[i]. Alice noticed that she started to gain weight, so she visited a doctor. \n",
    "\n",
    "The doctor advised Alice to only eat n / 2 of the candies she has (n is always even). Alice likes her candies very much, and she wants\n",
    "to eat the maximum number of different types of candies while still following the doctor's advice. \n",
    "\n",
    "Given the integer array candyType of length n, return the maximum number of different types of candies she can eat if she only eats n / 2 of them.\n",
    "\n",
    "Example 1:\n",
    "Input: candyType = [1,1,2,2,3,3]\n",
    "Output: 3\n",
    "\n",
    "Explanation: Alice can only eat 6 / 2 = 3 candies. Since there are only 3 types, she can eat one of each type.\n",
    "\n",
    "Ans3-"
   ]
  },
  {
   "cell_type": "code",
   "execution_count": 2,
   "id": "6b7ebb61-660e-46d6-a00e-fe11c0e9b546",
   "metadata": {},
   "outputs": [
    {
     "name": "stdout",
     "output_type": "stream",
     "text": [
      "3\n"
     ]
    }
   ],
   "source": [
    "def maxCandies(candyType):\n",
    "    uniqueCandies = set()\n",
    "    for candy in candyType:\n",
    "        uniqueCandies.add(candy)\n",
    "    return min(len(uniqueCandies), len(candyType) // 2)\n",
    "\n",
    "candyType = [1, 1, 2, 2, 3, 3]\n",
    "print(maxCandies(candyType))\n"
   ]
  },
  {
   "cell_type": "code",
   "execution_count": null,
   "id": "2e884c9d-c433-4f7b-9446-22f12c90355c",
   "metadata": {},
   "outputs": [],
   "source": [
    "Question 3\n",
    "We define a harmonious array as an array where the difference between its maximum value\n",
    "and its minimum value is exactly 1.\n",
    "\n",
    "Given an integer array nums, return the length of its longest harmonious subsequence\n",
    "among all its possible subsequences.\n",
    "\n",
    "A subsequence of an array is a sequence that can be derived from the array by deleting some or no elements without \n",
    "changing the order of the remaining elements.\n",
    "\n",
    "Example 1:\n",
    "Input: nums = [1,3,2,2,5,2,3,7]\n",
    "Output: 5\n",
    "\n",
    "Explanation: The longest harmonious subsequence is [3,2,2,2,3].\n",
    "\n",
    "Ans3-"
   ]
  },
  {
   "cell_type": "code",
   "execution_count": 3,
   "id": "43793452-8056-45d5-b6bf-1b662eed5fd9",
   "metadata": {},
   "outputs": [
    {
     "name": "stdout",
     "output_type": "stream",
     "text": [
      "5\n"
     ]
    }
   ],
   "source": [
    "from collections import defaultdict\n",
    "\n",
    "def findLHS(nums):\n",
    "    frequency = defaultdict(int)\n",
    "    for num in nums:\n",
    "        frequency[num] += 1\n",
    "    \n",
    "    max_length = 0\n",
    "    for num in frequency:\n",
    "        if num + 1 in frequency:\n",
    "            length = frequency[num] + frequency[num + 1]\n",
    "            max_length = max(max_length, length)\n",
    "    \n",
    "    return max_length\n",
    "\n",
    "nums = [1, 3, 2, 2, 5, 2, 3, 7]\n",
    "result = findLHS(nums)\n",
    "print(result)  \n"
   ]
  },
  {
   "cell_type": "code",
   "execution_count": null,
   "id": "7d931d99-e659-4d8e-bf96-0939480af96a",
   "metadata": {},
   "outputs": [],
   "source": [
    "Question 4\n",
    "You have a long flowerbed in which some of the plots are planted, and some are not.\n",
    "However, flowers cannot be planted in adjacent plots.\n",
    "Given an integer array flowerbed containing 0's and 1's, where 0 means empty and 1 means not empty, and an integer n, return \n",
    "true if n new flowers can be planted in the flowerbed without violating the no-adjacent-flowers rule and false otherwise.\n",
    "\n",
    "Example 1:\n",
    "Input: flowerbed = [1,0,0,0,1], n = 1\n",
    "Output: true\n",
    "\n",
    "Ans4-"
   ]
  },
  {
   "cell_type": "code",
   "execution_count": 4,
   "id": "677b648d-4a3c-4505-8015-10901d1d9e58",
   "metadata": {},
   "outputs": [
    {
     "name": "stdout",
     "output_type": "stream",
     "text": [
      "True\n"
     ]
    }
   ],
   "source": [
    "def can_place_flowers(flowerbed, n):\n",
    "    count = 0\n",
    "    length = len(flowerbed)\n",
    "    for i in range(length):\n",
    "        if (\n",
    "            flowerbed[i] == 0 and\n",
    "            (i == 0 or flowerbed[i - 1] == 0) and\n",
    "            (i == length - 1 or flowerbed[i + 1] == 0)\n",
    "        ):\n",
    "            flowerbed[i] = 1\n",
    "            count += 1\n",
    "            if count >= n:\n",
    "                return True\n",
    "    return False\n",
    "\n",
    "\n",
    "flowerbed = [1, 0, 0, 0, 1]\n",
    "n = 1\n",
    "print(can_place_flowers(flowerbed, n))  \n"
   ]
  },
  {
   "cell_type": "code",
   "execution_count": null,
   "id": "ac19b2c1-7c14-4168-9a9b-bb4b1e2a77fa",
   "metadata": {},
   "outputs": [],
   "source": [
    "Question 5\n",
    "Given an integer array nums, find three numbers whose product is maximum and return the maximum product.\n",
    "\n",
    "Example 1:\n",
    "Input: nums = [1,2,3]\n",
    "Output: 6\n",
    "\n",
    "Ans5-"
   ]
  },
  {
   "cell_type": "code",
   "execution_count": 5,
   "id": "4c0255d2-7327-4766-a65b-7ea71602b2d8",
   "metadata": {},
   "outputs": [
    {
     "name": "stdout",
     "output_type": "stream",
     "text": [
      "6\n"
     ]
    }
   ],
   "source": [
    "def maximumProduct(nums):\n",
    "    nums.sort() \n",
    "    n = len(nums)\n",
    "    product1 = nums[n - 1] * nums[n - 2] * nums[n - 3] \n",
    "    product2 = nums[0] * nums[1] * nums[n - 1] \n",
    "    return max(product1, product2)  \n",
    "\n",
    "\n",
    "nums = [1, 2, 3]\n",
    "print(maximumProduct(nums))\n"
   ]
  },
  {
   "cell_type": "code",
   "execution_count": null,
   "id": "86280835-58c0-4c9f-99a3-d566e308a25e",
   "metadata": {},
   "outputs": [],
   "source": [
    "Question 6\n",
    "Given an array of integers nums which is sorted in ascending order, and an integer target,\n",
    "write a function to search target in nums. If target exists, then return its index. Otherwise,\n",
    "return -1.\n",
    "\n",
    "You must write an algorithm with O(log n) runtime complexity.\n",
    "\n",
    "Input: nums = [-1,0,3,5,9,12], target = 9\n",
    "Output: 4\n",
    "\n",
    "Explanation: 9 exists in nums and its index is 4\n",
    "\n",
    "Ans6-"
   ]
  },
  {
   "cell_type": "code",
   "execution_count": 6,
   "id": "4c2bdb3b-4689-4856-b68c-06dc4c3a8a7b",
   "metadata": {},
   "outputs": [],
   "source": [
    "def search(nums, target):\n",
    "    left = 0\n",
    "    right = len(nums) - 1\n",
    "\n",
    "    while left <= right:\n",
    "        mid = left + (right - left) // 2\n",
    "\n",
    "        if nums[mid] == target:\n",
    "            return mid\n",
    "        elif nums[mid] < target:\n",
    "            left = mid + 1\n",
    "        else:\n",
    "            right = mid - 1\n",
    "\n",
    "    return -1\n",
    "\n"
   ]
  },
  {
   "cell_type": "code",
   "execution_count": 7,
   "id": "b1b1760b-5d97-44db-b0d1-b590502c9487",
   "metadata": {},
   "outputs": [
    {
     "name": "stdout",
     "output_type": "stream",
     "text": [
      "4\n"
     ]
    }
   ],
   "source": [
    "nums = [-1, 0, 3, 5, 9, 12]\n",
    "target = 9\n",
    "\n",
    "result = search(nums, target)\n",
    "print(result)\n"
   ]
  },
  {
   "cell_type": "code",
   "execution_count": null,
   "id": "972f8cad-23a2-44b7-949f-761d4a8a60a7",
   "metadata": {},
   "outputs": [],
   "source": [
    "Question 7\n",
    "An array is monotonic if it is either monotone increasing or monotone decreasing.\n",
    "\n",
    "An array nums is monotone increasing if for all i <= j, nums[i] <= nums[j]. An array nums is\n",
    "monotone decreasing if for all i <= j, nums[i] >= nums[j].\n",
    "\n",
    "Given an integer array nums, return true if the given array is monotonic, or false otherwise.\n",
    "\n",
    "Example 1:\n",
    "Input: nums = [1,2,2,3]\n",
    "Output: true\n",
    "\n",
    "Ans7-\n"
   ]
  },
  {
   "cell_type": "code",
   "execution_count": 8,
   "id": "baea86aa-ba5b-4345-b90c-eaf68ec76e5c",
   "metadata": {},
   "outputs": [
    {
     "name": "stdout",
     "output_type": "stream",
     "text": [
      "True\n"
     ]
    }
   ],
   "source": [
    "def isMonotonic(nums):\n",
    "    increasing = decreasing = True\n",
    "\n",
    "    for i in range(1, len(nums)):\n",
    "        if nums[i] < nums[i-1]:\n",
    "            increasing = False\n",
    "        if nums[i] > nums[i-1]:\n",
    "            decreasing = False\n",
    "\n",
    "    return increasing or decreasing\n",
    "\n",
    "\n",
    "nums = [1, 2, 2, 3]\n",
    "print(isMonotonic(nums)) \n"
   ]
  },
  {
   "cell_type": "code",
   "execution_count": null,
   "id": "d3da6230-b57d-4284-a9f5-dc49d93e1e25",
   "metadata": {},
   "outputs": [],
   "source": [
    "Question 8\n",
    "You are given an integer array nums and an integer k.\n",
    "\n",
    "In one operation, you can choose any index i where 0 <= i < nums.length and change nums[i] to nums[i] + x where x is an integer \n",
    "from the range [-k, k]. You can apply this operation at most once for each index i.\n",
    "\n",
    "The score of nums is the difference between the maximum and minimum elements in nums.\n",
    "\n",
    "Return the minimum score of nums after applying the mentioned operation at most once for each index in it.\n",
    "\n",
    "Example 1:\n",
    "Input: nums = [1], k = 0\n",
    "Output: 0\n",
    "\n",
    "Explanation: The score is max(nums) - min(nums) = 1 - 1 = 0.\n",
    "\n",
    "Ans8-"
   ]
  },
  {
   "cell_type": "code",
   "execution_count": 9,
   "id": "2980cb67-1cb3-424a-bbcc-caf2c62b06c8",
   "metadata": {},
   "outputs": [],
   "source": [
    "def minimumScore(nums, k):\n",
    "    min_num = float('inf')\n",
    "    max_num = float('-inf')\n",
    "    \n",
    "    for num in nums:\n",
    "        min_num = min(min_num, num)\n",
    "        max_num = max(max_num, num)\n",
    "    \n",
    "    if min_num + k >= max_num - k:\n",
    "        return max_num - min_num\n",
    "    else:\n",
    "        return 2 * k\n"
   ]
  },
  {
   "cell_type": "code",
   "execution_count": 10,
   "id": "12c44e80-0854-4d64-bcdb-5c7e4dd51a48",
   "metadata": {},
   "outputs": [
    {
     "name": "stdout",
     "output_type": "stream",
     "text": [
      "0\n"
     ]
    }
   ],
   "source": [
    "nums = [1]\n",
    "k = 0\n",
    "print(minimumScore(nums, k)) \n"
   ]
  },
  {
   "cell_type": "code",
   "execution_count": null,
   "id": "70cda217-d77f-4523-925a-e34a48879290",
   "metadata": {},
   "outputs": [],
   "source": []
  }
 ],
 "metadata": {
  "kernelspec": {
   "display_name": "Python 3 (ipykernel)",
   "language": "python",
   "name": "python3"
  },
  "language_info": {
   "codemirror_mode": {
    "name": "ipython",
    "version": 3
   },
   "file_extension": ".py",
   "mimetype": "text/x-python",
   "name": "python",
   "nbconvert_exporter": "python",
   "pygments_lexer": "ipython3",
   "version": "3.10.8"
  }
 },
 "nbformat": 4,
 "nbformat_minor": 5
}
